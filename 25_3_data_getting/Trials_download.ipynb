{
 "cells": [
  {
   "cell_type": "code",
   "execution_count": 4,
   "metadata": {},
   "outputs": [],
   "source": [
    "import requests\n",
    "\n",
    "import sys\n",
    "sys.path.append('../')\n",
    "\n",
    "import os\n",
    "\n",
    "import zipfile\n",
    "\n",
    "from tqdm import tqdm\n",
    "\n",
    "import dask.dataframe as dd\n",
    "\n",
    "import concurrent.futures"
   ]
  },
  {
   "cell_type": "code",
   "execution_count": 2,
   "metadata": {},
   "outputs": [],
   "source": [
    "url = \"https://api.worldbank.org/v2/en/indicator/NY.GDP.MKTP.CD\"\n",
    "query_parameters = {\"downloadformat\": \"csv\"}\n",
    "\n",
    "response = requests.get(url, params=query_parameters)"
   ]
  },
  {
   "cell_type": "code",
   "execution_count": 4,
   "metadata": {},
   "outputs": [
    {
     "data": {
      "text/plain": [
       "('https://api.worldbank.org/v2/en/indicator/NY.GDP.MKTP.CD?downloadformat=csv',\n",
       " True,\n",
       " 200)"
      ]
     },
     "execution_count": 4,
     "metadata": {},
     "output_type": "execute_result"
    }
   ],
   "source": [
    "response.url, response.ok, response.status_code"
   ]
  },
  {
   "cell_type": "code",
   "execution_count": null,
   "metadata": {},
   "outputs": [
    {
     "name": "stdout",
     "output_type": "stream",
     "text": [
      "File already exists\n",
      "Files extracted\n"
     ]
    }
   ],
   "source": [
    "fname = \"../Data/25_3_data_getting/gdp.zip\"\n",
    "if not os.path.exists(fname):\n",
    "    with open(fname, \"wb\") as file:\n",
    "        file.write(response.content)\n",
    "else:\n",
    "    print(\"File already exists\")\n",
    "\n",
    "with zipfile.ZipFile(fname, \"r\") as zip_ref:\n",
    "    zip_ref.extractall(\"../Data/25_3_data_getting\")\n",
    "    print(\"Files extracted\")"
   ]
  },
  {
   "cell_type": "code",
   "execution_count": 29,
   "metadata": {},
   "outputs": [
    {
     "name": "stdout",
     "output_type": "stream",
     "text": [
      "{'Date': 'Thu, 27 Mar 2025 19:11:58 GMT', 'Content-Type': 'application/octet-stream', 'Content-Length': '271860602', 'Connection': 'keep-alive', 'Last-Modified': 'Tue, 25 Mar 2025 17:30:13 GMT', 'ETag': '0x8DD6BC2B32A7F92', 'x-ms-request-id': '65444f76-601e-0006-0d4a-9f18d0000000', 'x-ms-version': '2009-09-19', 'x-ms-lease-status': 'unlocked', 'x-ms-blob-type': 'BlockBlob', 'x-azure-ref': '20250327T191158Z-165cd9497649x25vhC1CPH42as0000001kbg00000000f083', 'Cache-Control': 'public, max-age=3600', 'x-fd-int-roxy-purgeid': '83716666', 'X-Cache': 'TCP_HIT', 'X-Cache-Info': 'L1_T2', 'Accept-Ranges': 'bytes'}\n"
     ]
    }
   ],
   "source": [
    "url = \"https://databank.worldbank.org/data/download/WDI_CSV.zip\"\n",
    "response = requests.get(url, stream=True)\n",
    "print(response.headers)"
   ]
  },
  {
   "cell_type": "code",
   "execution_count": null,
   "metadata": {},
   "outputs": [
    {
     "name": "stderr",
     "output_type": "stream",
     "text": [
      "100%|█████████▉| 26518/26548.8869140625 [01:42<00:00, 274.52it/s]/Users/asger/.pyenv/versions/3.13.1/envs/base/lib/python3.13/site-packages/tqdm/std.py:636: TqdmWarning: clamping frac to range [0, 1]\n",
      "  full_bar = Bar(frac,\n",
      "100%|██████████| 26549/26548.8869140625 [01:42<00:00, 259.39it/s]\n"
     ]
    }
   ],
   "source": [
    "chunksize = 10*1024\n",
    "\n",
    "with open(\"../Data/25_3_data_getting/WDI_CSV.zip\", mode=\"wb\") as file:\n",
    "    for chunk in tqdm(response.iter_content(chunk_size=chunksize), total = int(response.headers['Content-Length']) / chunksize):\n",
    "        file.write(chunk)"
   ]
  },
  {
   "cell_type": "code",
   "execution_count": 31,
   "metadata": {},
   "outputs": [
    {
     "name": "stdout",
     "output_type": "stream",
     "text": [
      "Files extracted\n"
     ]
    }
   ],
   "source": [
    "fname = \"../Data/25_3_data_getting/WDI_CSV.zip\"\n",
    "with zipfile.ZipFile(fname, \"r\") as zip_ref:\n",
    "    zip_ref.extractall(\"../Data/25_3_data_getting\")\n",
    "    print(\"Files extracted\")"
   ]
  },
  {
   "cell_type": "markdown",
   "metadata": {},
   "source": [
    "the below download took 17:34 on DSB network"
   ]
  },
  {
   "cell_type": "code",
   "execution_count": 34,
   "metadata": {},
   "outputs": [
    {
     "name": "stdout",
     "output_type": "stream",
     "text": [
      "{'Date': 'Thu, 27 Mar 2025 19:24:37 GMT', 'Server': 'Apache', 'Last-Modified': 'Thu, 27 Mar 2025 05:16:36 GMT', 'ETag': '\"2621de6e-6314c0ed13b89\"', 'Accept-Ranges': 'bytes', 'Content-Length': '639753838', 'Keep-Alive': 'timeout=5, max=100', 'Connection': 'Keep-Alive', 'Content-Type': 'application/zip', 'Set-Cookie': 'ADC_SESSION=!Mo7fDA2mDskpRjWqZDt8cW8pGz3Zfrz6BUgZU+D5bdE3ob7zNTHLTfi/vDzFA2nO/5h5Bu5brHrRUhA=; path=/; Httponly; Secure'}\n",
      "True\n"
     ]
    },
    {
     "name": "stderr",
     "output_type": "stream",
     "text": [
      "100%|█████████▉| 62464/62475.9607421875 [17:34<00:00, 139.33it/s] /Users/asger/.pyenv/versions/3.13.1/envs/base/lib/python3.13/site-packages/tqdm/std.py:636: TqdmWarning: clamping frac to range [0, 1]\n",
      "  full_bar = Bar(frac,\n",
      "100%|██████████| 62476/62475.9607421875 [17:34<00:00, 59.27it/s] \n"
     ]
    },
    {
     "name": "stdout",
     "output_type": "stream",
     "text": [
      "Files extracted\n"
     ]
    }
   ],
   "source": [
    "data_home = \"../Data/25_3_data_getting/\"\n",
    "fname = \"aisdk.zip\"\n",
    "url = \"https://web.ais.dk/aisdata/aisdk-2025-03-24.zip\"\n",
    "response = requests.get(url, stream=True)\n",
    "print(response.headers)\n",
    "print(response.ok)\n",
    "\n",
    "chunksize = 10*1024\n",
    "length = int(response.headers['Content-Length']) / chunksize\n",
    "with open(data_home + fname, mode=\"wb\") as file:\n",
    "    for chunk in tqdm(response.iter_content(chunk_size=chunksize), total = length):\n",
    "        file.write(chunk)\n",
    "\n",
    "with zipfile.ZipFile(data_home + fname, \"r\") as zip_ref:\n",
    "    zip_ref.extractall(data_home)\n",
    "    print(\"Files extracted\")"
   ]
  },
  {
   "cell_type": "markdown",
   "metadata": {},
   "source": [
    "Parallel download of the files seem to be significantly faster!!! 4 workers seem to be the safe choice for slow home connections"
   ]
  },
  {
   "cell_type": "code",
   "execution_count": null,
   "metadata": {},
   "outputs": [
    {
     "name": "stdout",
     "output_type": "stream",
     "text": [
      "File size: 639.75 MB, Chunk size: 63.98 MB\n"
     ]
    },
    {
     "name": "stderr",
     "output_type": "stream",
     "text": [
      "Downloading:  95%|█████████▌| 609M/640M [03:45<00:34, 885kB/s]  "
     ]
    }
   ],
   "source": [
    "url = \"https://web.ais.dk/aisdata/aisdk-2025-03-24.zip\"\n",
    "data_home = \"../Data/25_3_data_getting/faster/\"\n",
    "fname = os.path.join(data_home, url.split(\"/\")[-1])\n",
    "\n",
    "response = requests.head(url)\n",
    "file_size = int(response.headers.get(\"Content-Length\", 0))\n",
    "num_chunks = 4  # Number of parallel chunks (adjust based on network speed)\n",
    "chunk_size = file_size // num_chunks\n",
    "\n",
    "print(f\"File size: {file_size / 1e6:.2f} MB, Chunk size: {chunk_size / 1e6:.2f} MB\")\n",
    "\n",
    "# Function to download a specific chunk\n",
    "def download_chunk(start, end, chunk_idx, progress_bar):\n",
    "    headers = {\"Range\": f\"bytes={start}-{end}\"}\n",
    "    chunk_fname = f\"{fname}.part{chunk_idx}\"\n",
    "    \n",
    "    with requests.get(url, headers=headers, stream=True) as r, open(chunk_fname, \"wb\") as f:\n",
    "        for chunk in r.iter_content(chunk_size=1024 * 1024):  # 1 MB chunks\n",
    "            f.write(chunk)\n",
    "            progress_bar.update(len(chunk))\n",
    "\n",
    "    return chunk_fname\n",
    "\n",
    "chunk_ranges = [(i * chunk_size, (i + 1) * chunk_size - 1, i) for i in range(num_chunks)]\n",
    "chunk_ranges[-1] = (chunk_ranges[-1][0], file_size - 1, num_chunks - 1)  # Ensure last chunk gets remaining bytes\n",
    "\n",
    "with tqdm(total=file_size, unit=\"B\", unit_scale=True, desc=\"Downloading\") as progress_bar:\n",
    "    with concurrent.futures.ThreadPoolExecutor(max_workers=num_chunks) as executor:\n",
    "        chunk_files = list(executor.map(lambda args: download_chunk(*args, progress_bar), chunk_ranges))\n",
    "\n",
    "with open(fname, \"wb\") as output_file:\n",
    "    for chunk_file in chunk_files:\n",
    "        with open(chunk_file, \"rb\") as part:\n",
    "            output_file.write(part.read())\n",
    "        os.remove(chunk_file)  # Delete temporary chunk files\n",
    "\n",
    "print(f\"Download complete: {fname}\")"
   ]
  }
 ],
 "metadata": {
  "kernelspec": {
   "display_name": "base",
   "language": "python",
   "name": "python3"
  },
  "language_info": {
   "codemirror_mode": {
    "name": "ipython",
    "version": 3
   },
   "file_extension": ".py",
   "mimetype": "text/x-python",
   "name": "python",
   "nbconvert_exporter": "python",
   "pygments_lexer": "ipython3",
   "version": "3.13.1"
  }
 },
 "nbformat": 4,
 "nbformat_minor": 2
}
