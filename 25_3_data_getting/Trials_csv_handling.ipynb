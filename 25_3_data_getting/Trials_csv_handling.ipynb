{
 "cells": [
  {
   "cell_type": "markdown",
   "metadata": {},
   "source": [
    "Here I will explore the basics of handling and cropping the large csv file. Hopefully this can be optimized!!!"
   ]
  },
  {
   "cell_type": "code",
   "execution_count": 32,
   "metadata": {},
   "outputs": [],
   "source": [
    "import dask.dataframe as dd\n",
    "\n",
    "import sys\n",
    "sys.path.append(\"../\")\n",
    "\n",
    "import pandas as pd\n",
    "\n",
    "import os\n",
    "\n",
    "import matplotlib.pyplot as plt"
   ]
  },
  {
   "cell_type": "code",
   "execution_count": 7,
   "metadata": {},
   "outputs": [],
   "source": [
    "folder = \"../Data/25_3_data_getting/\""
   ]
  },
  {
   "cell_type": "markdown",
   "metadata": {},
   "source": [
    "The basic oresund filtering takes only 1 min/day! (copared to 9 mins in pandas!)"
   ]
  },
  {
   "cell_type": "code",
   "execution_count": 11,
   "metadata": {},
   "outputs": [],
   "source": [
    "fname = \"aisdk-2025-03-24.parquet\"\n",
    "#loading csv\n",
    "df = dd.read_csv(\"../Data/25_3_data_getting/aisdk-2025-03-24.csv\", dtype={'Cargo type': 'str', 'ETA': 'str'})\n",
    "\n",
    "#Oresund region\n",
    "nswe = [56.110689, 55.369532, 12.137468, 13.120240]\n",
    "\n",
    "df = df[(df['Latitude'] < nswe[0]) & (df['Latitude'] > nswe[1]) & (df['Longitude'] > nswe[2]) & (df['Longitude'] < nswe[3])]\n",
    "df.to_parquet(folder+fname, engine='pyarrow', write_index=False)"
   ]
  },
  {
   "cell_type": "markdown",
   "metadata": {},
   "source": [
    "Now trying different approach (because dataset is smaller than memory when oresund is filtered I can do computations in pandas!)"
   ]
  },
  {
   "cell_type": "code",
   "execution_count": null,
   "metadata": {},
   "outputs": [
    {
     "name": "stdout",
     "output_type": "stream",
     "text": [
      "Computed\n"
     ]
    },
    {
     "name": "stderr",
     "output_type": "stream",
     "text": [
      "/var/folders/29/jqsnm5js6_sc7663vjsq3mp40000gp/T/ipykernel_5410/3787796275.py:22: FutureWarning: The behavior of DataFrame concatenation with empty or all-NA entries is deprecated. In a future version, this will no longer exclude empty or all-NA columns when determining the result dtypes. To retain the old behavior, exclude the relevant entries before the concat operation.\n",
      "  data_temp = pd.concat([data_temp, ship], ignore_index=True)\n",
      "/var/folders/29/jqsnm5js6_sc7663vjsq3mp40000gp/T/ipykernel_5410/3787796275.py:22: FutureWarning: The behavior of DataFrame concatenation with empty or all-NA entries is deprecated. In a future version, this will no longer exclude empty or all-NA columns when determining the result dtypes. To retain the old behavior, exclude the relevant entries before the concat operation.\n",
      "  data_temp = pd.concat([data_temp, ship], ignore_index=True)\n"
     ]
    }
   ],
   "source": [
    "df = dd.read_csv(\"../Data/25_3_data_getting/aisdk-2025-03-24.csv\", dtype={'Cargo type': 'str', 'ETA': 'str'})\n",
    "\n",
    "#Oresund region\n",
    "nswe = [56.110689, 55.369532, 12.137468, 13.120240]\n",
    "\n",
    "df = df[(df['Latitude'] < nswe[0]) & (df['Latitude'] > nswe[1]) & (df['Longitude'] > nswe[2]) & (df['Longitude'] < nswe[3])]\n",
    "df = df.compute() #Loads the data into memory as a pandas dataframe. Efficient now!\n",
    "print('Computed')\n",
    "\n",
    "df.drop_duplicates()\n",
    "data_temp = pd.DataFrame(columns=df.columns)\n",
    "\n",
    "for MMSI in df['MMSI'].unique():\n",
    "    ship = df[df['MMSI'] == MMSI]\n",
    "    #Creating a series for time filtering\n",
    "    series = pd.Series(range(len(ship)), index=pd.to_datetime(ship['# Timestamp'], dayfirst=True))\n",
    "    #Resampling the series to 5 minutes. This gives the index of the last data point in the 5 minute interval\n",
    "    #The unique is added because if transmission occurs less frequently than 5 mins there will be duplicates\n",
    "    resampled = series.resample('5min').first().dropna().astype(int)\n",
    "    #Filtering the data\n",
    "    ship = ship.iloc[resampled]\n",
    "    data_temp = pd.concat([data_temp, ship], ignore_index=True)\n",
    "\n",
    "df = data_temp.copy()\n",
    "\n",
    "#And down here will go all the other filtering steps!!!"
   ]
  },
  {
   "cell_type": "code",
   "execution_count": null,
   "metadata": {},
   "outputs": [],
   "source": [
    "#Saving as single ships!\n",
    "#Parquet files loads columns extremely fast, so no problem if not all of them are used in data analysis!\n",
    "folder_n = folder + 'Ships/'\n",
    "\n",
    "for MMSI in df['MMSI'].unique():\n",
    "    ship = df[df['MMSI'] == MMSI]\n",
    "    ship.to_parquet(folder_n + str(MMSI) + \".parquet\", engine='pyarrow', index=False)\n",
    "\n",
    "df.to_parquet(folder + fname, engine='pyarrow', index=False)"
   ]
  },
  {
   "cell_type": "markdown",
   "metadata": {},
   "source": [
    "Trying to see if I can concatenate ships into single files!"
   ]
  },
  {
   "cell_type": "code",
   "execution_count": 19,
   "metadata": {},
   "outputs": [
    {
     "name": "stdout",
     "output_type": "stream",
     "text": [
      "Computed\n"
     ]
    },
    {
     "name": "stderr",
     "output_type": "stream",
     "text": [
      "/var/folders/29/jqsnm5js6_sc7663vjsq3mp40000gp/T/ipykernel_5410/2435935422.py:25: FutureWarning: The behavior of DataFrame concatenation with empty or all-NA entries is deprecated. In a future version, this will no longer exclude empty or all-NA columns when determining the result dtypes. To retain the old behavior, exclude the relevant entries before the concat operation.\n",
      "  data_temp = pd.concat([data_temp, ship], ignore_index=True)\n",
      "/var/folders/29/jqsnm5js6_sc7663vjsq3mp40000gp/T/ipykernel_5410/2435935422.py:25: FutureWarning: The behavior of DataFrame concatenation with empty or all-NA entries is deprecated. In a future version, this will no longer exclude empty or all-NA columns when determining the result dtypes. To retain the old behavior, exclude the relevant entries before the concat operation.\n",
      "  data_temp = pd.concat([data_temp, ship], ignore_index=True)\n"
     ]
    }
   ],
   "source": [
    "folder = \"../Data/\"\n",
    "fname = \"aisdk-2025-01-19.csv\"\n",
    "#loading csv\n",
    "df = dd.read_csv(folder + fname, dtype={'Cargo type': 'str', 'ETA': 'str', 'Name': 'str'})\n",
    "\n",
    "#Oresund region\n",
    "nswe = [56.110689, 55.369532, 12.137468, 13.120240]\n",
    "\n",
    "df = df[(df['Latitude'] < nswe[0]) & (df['Latitude'] > nswe[1]) & (df['Longitude'] > nswe[2]) & (df['Longitude'] < nswe[3])]\n",
    "df = df.compute() #Loads the data into memory as a pandas dataframe. Efficient now!\n",
    "print('Computed')\n",
    "\n",
    "df.drop_duplicates()\n",
    "data_temp = pd.DataFrame(columns=df.columns)\n",
    "\n",
    "for MMSI in df['MMSI'].unique():\n",
    "    ship = df[df['MMSI'] == MMSI]\n",
    "    #Creating a series for time filtering\n",
    "    series = pd.Series(range(len(ship)), index=pd.to_datetime(ship['# Timestamp'], dayfirst=True))\n",
    "    #Resampling the series to 5 minutes. This gives the index of the last data point in the 5 minute interval\n",
    "    #The unique is added because if transmission occurs less frequently than 5 mins there will be duplicates\n",
    "    resampled = series.resample('5min').first().dropna().astype(int)\n",
    "    #Filtering the data\n",
    "    ship = ship.iloc[resampled]\n",
    "    data_temp = pd.concat([data_temp, ship], ignore_index=True)\n",
    "\n",
    "df = data_temp.copy()\n",
    "\n",
    "#And down here will go all the other filtering steps!!!"
   ]
  },
  {
   "cell_type": "code",
   "execution_count": 30,
   "metadata": {},
   "outputs": [
    {
     "name": "stdout",
     "output_type": "stream",
     "text": [
      "198\n",
      "265572330\n",
      "219006221\n",
      "219000368\n",
      "2655140\n",
      "219230000\n",
      "2190047\n",
      "219014974\n",
      "265514800\n",
      "219030094\n",
      "219001819\n",
      "219024402\n",
      "219001619\n",
      "219027309\n",
      "219001214\n",
      "219026000\n",
      "219002798\n",
      "219020533\n",
      "219007898\n",
      "219003452\n",
      "219018032\n",
      "219032359\n",
      "265041000\n",
      "219001362\n",
      "265952000\n",
      "219007572\n",
      "265797590\n",
      "265768860\n",
      "219024176\n",
      "211787120\n",
      "219002801\n",
      "219024177\n",
      "219005904\n",
      "265610950\n",
      "219000575\n",
      "265011730\n",
      "265522730\n",
      "219622000\n",
      "265504660\n",
      "219029444\n",
      "265524530\n"
     ]
    },
    {
     "name": "stderr",
     "output_type": "stream",
     "text": [
      "/var/folders/29/jqsnm5js6_sc7663vjsq3mp40000gp/T/ipykernel_5410/3658902287.py:24: FutureWarning: The behavior of DataFrame concatenation with empty or all-NA entries is deprecated. In a future version, this will no longer exclude empty or all-NA columns when determining the result dtypes. To retain the old behavior, exclude the relevant entries before the concat operation.\n",
      "  ship = pd.concat([ship_old, ship], ignore_index=True)\n"
     ]
    },
    {
     "name": "stdout",
     "output_type": "stream",
     "text": [
      "219024675\n",
      "219029886\n",
      "219006564\n",
      "265649310\n",
      "219006008\n",
      "219014538\n",
      "219022389\n",
      "219022390\n",
      "219022736\n",
      "219004634\n",
      "219007693\n",
      "219011448\n",
      "219031690\n",
      "219006078\n",
      "265698740\n",
      "219029348\n",
      "219023018\n",
      "219025371\n",
      "219026305\n",
      "219000675\n",
      "219026301\n",
      "219030294\n",
      "265516080\n",
      "265594380\n",
      "265768840\n",
      "265667170\n",
      "219022282\n",
      "265756000\n",
      "219025446\n",
      "244153423\n",
      "219032257\n",
      "219031192\n",
      "219006387\n",
      "219001306\n",
      "219012277\n",
      "265591210\n",
      "266475000\n",
      "265628170\n",
      "219001063\n",
      "232050936\n",
      "219025528\n",
      "219009657\n",
      "219030424\n",
      "219000551\n",
      "992651010\n",
      "992651016\n",
      "219024144\n",
      "992651006\n",
      "265793620\n",
      "219026300\n",
      "219005252\n",
      "992651011\n",
      "219018733\n",
      "265828130\n",
      "219000182\n",
      "219026391\n",
      "265712190\n",
      "219006006\n",
      "219030580\n",
      "219026304\n",
      "219029637\n",
      "219026079\n",
      "219027249\n",
      "219022668\n",
      "219021504\n",
      "219028120\n",
      "220476000\n",
      "219009871\n",
      "219027576\n",
      "219027899\n",
      "219003461\n",
      "265788680\n",
      "244750462\n",
      "219001375\n",
      "219033674\n",
      "314218000\n",
      "219026071\n",
      "219033884\n",
      "219017202\n",
      "219024777\n",
      "219000174\n",
      "265527020\n",
      "265526690\n",
      "219000217\n",
      "219016663\n",
      "219002846\n",
      "265182000\n",
      "219019441\n",
      "265807560\n",
      "219004695\n",
      "265023550\n",
      "219029210\n",
      "219005574\n",
      "219016692\n",
      "219030561\n",
      "265621730\n",
      "219028507\n",
      "219007035\n",
      "265719650\n",
      "219003121\n",
      "219000654\n",
      "219004907\n",
      "265701610\n",
      "265816840\n",
      "219002981\n",
      "219017412\n",
      "219033187\n",
      "219006177\n",
      "219023030\n",
      "636018620\n",
      "219027868\n",
      "265814190\n",
      "219025017\n",
      "219014686\n",
      "265798780\n",
      "219020337\n",
      "265541980\n",
      "265563720\n",
      "265829850\n",
      "219004407\n",
      "265054980\n",
      "219023719\n",
      "219003315\n",
      "219014727\n",
      "219014266\n",
      "219026175\n",
      "265542540\n",
      "219029135\n",
      "265060520\n",
      "265751630\n",
      "219027738\n",
      "219030047\n",
      "219024077\n",
      "219022182\n",
      "219019907\n",
      "265725520\n",
      "219032602\n",
      "219029572\n",
      "219032650\n",
      "219002956\n",
      "219023752\n",
      "219009787\n",
      "266262000\n",
      "265673610\n",
      "219002955\n",
      "219000195\n",
      "219592000\n",
      "266239000\n",
      "219017717\n",
      "219000177\n",
      "246843000\n",
      "219027550\n",
      "265786790\n",
      "219022503\n",
      "219015573\n",
      "211870240\n",
      "219031016\n",
      "219015336\n"
     ]
    }
   ],
   "source": [
    "folder_load = \"../Data/25_3_data_getting/Ships/\"\n",
    "folder_save = \"../Data/25_3_data_getting/New_ships/\"\n",
    "\n",
    "existing_ships = set()\n",
    "for ship in os.listdir(folder_load):\n",
    "    existing_ships.add(int(ship.split('.')[0]))\n",
    "\n",
    "i = 0\n",
    "for MMSI in df['MMSI'].unique():\n",
    "    if MMSI in existing_ships:\n",
    "        i += 1\n",
    "\n",
    "print(i)\n",
    "\n",
    "for MMSI in df['MMSI'].unique():\n",
    "    ship = df[df['MMSI'] == MMSI]\n",
    "    if MMSI not in existing_ships:\n",
    "        ship.to_parquet(folder_save + str(MMSI) + \".parquet\", engine='pyarrow', index=False)\n",
    "        existing_ships.add(MMSI)\n",
    "\n",
    "        \n",
    "    else:\n",
    "        ship_old = pd.read_parquet(folder_load + str(MMSI) + \".parquet\", engine='pyarrow')\n",
    "        ship = pd.concat([ship_old, ship], ignore_index=True)\n",
    "        ship.to_parquet(folder_save + str(MMSI) + \".parquet\", engine='pyarrow', index=False)\n",
    "        print(MMSI)\n",
    "\n",
    "#This doesn't copy the all the old ships but whatever. It is testing\n",
    "        "
   ]
  },
  {
   "cell_type": "code",
   "execution_count": null,
   "metadata": {},
   "outputs": [
    {
     "data": {
      "text/plain": [
       "(151, 357)"
      ]
     },
     "execution_count": 31,
     "metadata": {},
     "output_type": "execute_result"
    }
   ],
   "source": [
    "MMSI = 265649310\n",
    "\n",
    "old = pd.read_parquet(folder_load + str(MMSI) + \".parquet\", engine='pyarrow', columns = ['Latitude'])\n",
    "new = pd.read_parquet(folder_save + str(MMSI) + \".parquet\", engine='pyarrow', columns = ['Latitude'])\n",
    "\n",
    "len(old), len(new)\n"
   ]
  },
  {
   "cell_type": "code",
   "execution_count": 37,
   "metadata": {},
   "outputs": [
    {
     "data": {
      "text/plain": [
       "[<matplotlib.lines.Line2D at 0x1191a1a90>]"
      ]
     },
     "execution_count": 37,
     "metadata": {},
     "output_type": "execute_result"
    },
    {
     "data": {
      "image/png": "[encoded data removed]",
      "text/plain": [
       "<Figure size 640x480 with 1 Axes>"
      ]
     },
     "metadata": {},
     "output_type": "display_data"
    }
   ],
   "source": [
    "plt.plot(old['Latitude'], label='Old')\n",
    "plt.plot(new['Latitude'] + 0.0001, label='New')"
   ]
  }
 ],
 "metadata": {
  "kernelspec": {
   "display_name": "base",
   "language": "python",
   "name": "python3"
  },
  "language_info": {
   "codemirror_mode": {
    "name": "ipython",
    "version": 3
   },
   "file_extension": ".py",
   "mimetype": "text/x-python",
   "name": "python",
   "nbconvert_exporter": "python",
   "pygments_lexer": "ipython3",
   "version": "3.13.1"
  }
 },
 "nbformat": 4,
 "nbformat_minor": 2
}
